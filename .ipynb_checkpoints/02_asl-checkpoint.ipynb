{
 "cells": [
  {
   "cell_type": "markdown",
   "metadata": {
    "id": "ZPxxiNr6k6kQ"
   },
   "source": [
    "# <img src=\"./images/DLI_Header.png\" style=\"width: 400px;\">"
   ]
  },
  {
   "cell_type": "markdown",
   "metadata": {
    "id": "1_d_NUSWk6kV"
   },
   "source": [
    "# 미국 수화 데이터세트 이미지 분류"
   ]
  },
  {
   "cell_type": "markdown",
   "metadata": {
    "id": "nZ15iBFJk6kV"
   },
   "source": [
    "이 섹션에서는 지난 섹션에서 살펴본 데이터 준비, 모델 생성 및 모델 트레이닝 단계를 수행할 예정이며, 이번에는 지난 번과 다른 데이터세트인 [미국 수화](http://www.asl.gs/)의 수화 문자 이미지를 사용하겠습니다."
   ]
  },
  {
   "cell_type": "markdown",
   "metadata": {
    "id": "VAR2YXSBk6kW"
   },
   "source": [
    "## 목표"
   ]
  },
  {
   "cell_type": "markdown",
   "metadata": {
    "id": "bIU-uiu9k6kW"
   },
   "source": [
    "* 트레이닝을 위한 이미지 데이터 준비\n",
    "* 이미지 분류를 위한 단순 모델 생성 및 컴파일\n",
    "* 이미지 분류 모델 트레이닝 및 결과 관찰"
   ]
  },
  {
   "cell_type": "markdown",
   "metadata": {
    "id": "fjl56-ojk6kW"
   },
   "source": [
    "## 미국 수화 데이터세트"
   ]
  },
  {
   "cell_type": "markdown",
   "metadata": {
    "id": "h7cgc0Szk6kW"
   },
   "source": [
    "[미국 수화 알파벳](http://www.asl.gs/)에는 26개의 문자가 포함되어 있습니다. 이 중 두 개의 문자(j 및 z)에는 동작이 요구되므로 트레이닝 데이터세트에 포함되지 않았습니다.  "
   ]
  },
  {
   "cell_type": "markdown",
   "metadata": {
    "id": "p4TV5kHdk6kW"
   },
   "source": [
    "<img src=\"./images/asl.png\" style=\"width: 600px;\">"
   ]
  },
  {
   "cell_type": "markdown",
   "metadata": {
    "id": "Eymf8Xfdk6kX"
   },
   "source": [
    "### Kaggle"
   ]
  },
  {
   "cell_type": "markdown",
   "metadata": {
    "id": "fgZtd3pTk6kX"
   },
   "source": [
    "이 데이터세트는 데이터세트와 기타 딥러닝 리소스를 찾기에 아주 좋은 웹사이트인 [Kaggle](http://www.kaggle.com)에서 제공됩니다. 노트북에서 본 데이터세트와 \"커널\" 등의 리소스를 제공하는 것 외에도, Kaggle은 다른 이들과 매우 정확한 모델을 트레이닝하는 경쟁을 할 수 있는 경진대회도 주관합니다.\n",
    "\n",
    "연습을 하고 싶거나 다수의 딥러닝 프로젝트 사례를 확인하고 싶은 경우 Kaggle을 방문하면 좋습니다."
   ]
  },
  {
   "cell_type": "markdown",
   "metadata": {
    "id": "vtl0UhsGk6kX"
   },
   "source": [
    "## 데이터 로드"
   ]
  },
  {
   "cell_type": "markdown",
   "metadata": {
    "id": "ij_AlgEWk6kX"
   },
   "source": [
    "이 데이터세트는 MNIST와 동일한 방식으로 Keras를 통해 제공되지 않으므로 맞춤형 데이터를 로드하는 방법을 알아보겠습니다. 이 섹션이 끝날 무렵에는 앞서와 같이 `x_train`, `y_train`, `x_valid` 및 `y_valid` 변수를 보유하게 됩니다."
   ]
  },
  {
   "cell_type": "markdown",
   "metadata": {
    "id": "jPXC-9eVk6kY"
   },
   "source": [
    "### 데이터 읽기"
   ]
  },
  {
   "cell_type": "markdown",
   "metadata": {
    "id": "uUIyrtUHk6kY"
   },
   "source": [
    "수화 데이터세트는 Microsoft Excel과 Google Sheet의 기반이 되는 동일한 데이터 구조인 [CSV](https://en.wikipedia.org/wiki/Comma-separated_values)(Comma Separated Values) 형식으로 되어 있습니다. 이는 [트레이닝](asl_data/sign_mnist_train.csv) 및 [검증](asl_data/sign_mnist_valid.csv) 데이터세트에서 보이는 것처럼 상단에 레이블이 있는 행과 열로 이루어진 그리드입니다(로드하는 데 약간의 시간이 소요될 수 있음).\n",
    "\n",
    "데이터를 로드하여 작업하기 위해 데이터 로드 및 조작을 위한 고성능 툴인 [Pandas](https://pandas.pydata.org/)라는 라이브러리를 사용하겠습니다. CSV 파일은 [DataFrame](https://pandas.pydata.org/pandas-docs/stable/reference/api/pandas.DataFrame.html)이라는 형식으로 읽게 됩니다."
   ]
  },
  {
   "cell_type": "code",
   "execution_count": 8,
   "metadata": {
    "id": "Dz1eQHKfk6kY"
   },
   "outputs": [],
   "source": [
    "import pandas as pd"
   ]
  },
  {
   "cell_type": "markdown",
   "metadata": {
    "id": "0FCTB_t_k6kY"
   },
   "source": [
    "Pandas에는 csv 파일을 예상하고 DataFrame을 반환하는 [read_csv](https://pandas.pydata.org/pandas-docs/stable/reference/api/pandas.read_csv.html) 메서드가 있습니다."
   ]
  },
  {
   "cell_type": "code",
   "execution_count": 10,
   "metadata": {
    "id": "e80YmKUsk6kZ"
   },
   "outputs": [],
   "source": [
    "train_df = pd.read_csv(\"data/asl_data/sign_mnist_train.csv\")\n",
    "valid_df = pd.read_csv(\"data/asl_data/sign_mnist_valid.csv\")"
   ]
  },
  {
   "cell_type": "markdown",
   "metadata": {
    "id": "JVougqJlk6kZ"
   },
   "source": [
    "### 데이터 살펴보기"
   ]
  },
  {
   "cell_type": "markdown",
   "metadata": {
    "id": "4_PXHUXvk6kZ"
   },
   "source": [
    "데이터를 살펴보겠습니다. [head](https://pandas.pydata.org/pandas-docs/stable/reference/api/pandas.DataFrame.head.html) 메서드를 사용하여 DataFrame의 처음 행 몇 개를 출력할 수 있습니다. 각 행은 `label` 열, 그리고 MNIST 데이터세트처럼 이미지의 각 픽셀 값을 나타내는 784개의 값을 지닌 이미지입니다. 보시다시피 레이블은 현재 알파벳 문자가 아닌 숫자 값입니다."
   ]
  },
  {
   "cell_type": "code",
   "execution_count": 11,
   "metadata": {
    "id": "2nwBen4_k6kZ"
   },
   "outputs": [
    {
     "data": {
      "text/html": [
       "<div>\n",
       "<style scoped>\n",
       "    .dataframe tbody tr th:only-of-type {\n",
       "        vertical-align: middle;\n",
       "    }\n",
       "\n",
       "    .dataframe tbody tr th {\n",
       "        vertical-align: top;\n",
       "    }\n",
       "\n",
       "    .dataframe thead th {\n",
       "        text-align: right;\n",
       "    }\n",
       "</style>\n",
       "<table border=\"1\" class=\"dataframe\">\n",
       "  <thead>\n",
       "    <tr style=\"text-align: right;\">\n",
       "      <th></th>\n",
       "      <th>label</th>\n",
       "      <th>pixel1</th>\n",
       "      <th>pixel2</th>\n",
       "      <th>pixel3</th>\n",
       "      <th>pixel4</th>\n",
       "      <th>pixel5</th>\n",
       "      <th>pixel6</th>\n",
       "      <th>pixel7</th>\n",
       "      <th>pixel8</th>\n",
       "      <th>pixel9</th>\n",
       "      <th>...</th>\n",
       "      <th>pixel775</th>\n",
       "      <th>pixel776</th>\n",
       "      <th>pixel777</th>\n",
       "      <th>pixel778</th>\n",
       "      <th>pixel779</th>\n",
       "      <th>pixel780</th>\n",
       "      <th>pixel781</th>\n",
       "      <th>pixel782</th>\n",
       "      <th>pixel783</th>\n",
       "      <th>pixel784</th>\n",
       "    </tr>\n",
       "  </thead>\n",
       "  <tbody>\n",
       "    <tr>\n",
       "      <th>0</th>\n",
       "      <td>3</td>\n",
       "      <td>107</td>\n",
       "      <td>118</td>\n",
       "      <td>127</td>\n",
       "      <td>134</td>\n",
       "      <td>139</td>\n",
       "      <td>143</td>\n",
       "      <td>146</td>\n",
       "      <td>150</td>\n",
       "      <td>153</td>\n",
       "      <td>...</td>\n",
       "      <td>207</td>\n",
       "      <td>207</td>\n",
       "      <td>207</td>\n",
       "      <td>207</td>\n",
       "      <td>206</td>\n",
       "      <td>206</td>\n",
       "      <td>206</td>\n",
       "      <td>204</td>\n",
       "      <td>203</td>\n",
       "      <td>202</td>\n",
       "    </tr>\n",
       "    <tr>\n",
       "      <th>1</th>\n",
       "      <td>6</td>\n",
       "      <td>155</td>\n",
       "      <td>157</td>\n",
       "      <td>156</td>\n",
       "      <td>156</td>\n",
       "      <td>156</td>\n",
       "      <td>157</td>\n",
       "      <td>156</td>\n",
       "      <td>158</td>\n",
       "      <td>158</td>\n",
       "      <td>...</td>\n",
       "      <td>69</td>\n",
       "      <td>149</td>\n",
       "      <td>128</td>\n",
       "      <td>87</td>\n",
       "      <td>94</td>\n",
       "      <td>163</td>\n",
       "      <td>175</td>\n",
       "      <td>103</td>\n",
       "      <td>135</td>\n",
       "      <td>149</td>\n",
       "    </tr>\n",
       "    <tr>\n",
       "      <th>2</th>\n",
       "      <td>2</td>\n",
       "      <td>187</td>\n",
       "      <td>188</td>\n",
       "      <td>188</td>\n",
       "      <td>187</td>\n",
       "      <td>187</td>\n",
       "      <td>186</td>\n",
       "      <td>187</td>\n",
       "      <td>188</td>\n",
       "      <td>187</td>\n",
       "      <td>...</td>\n",
       "      <td>202</td>\n",
       "      <td>201</td>\n",
       "      <td>200</td>\n",
       "      <td>199</td>\n",
       "      <td>198</td>\n",
       "      <td>199</td>\n",
       "      <td>198</td>\n",
       "      <td>195</td>\n",
       "      <td>194</td>\n",
       "      <td>195</td>\n",
       "    </tr>\n",
       "    <tr>\n",
       "      <th>3</th>\n",
       "      <td>2</td>\n",
       "      <td>211</td>\n",
       "      <td>211</td>\n",
       "      <td>212</td>\n",
       "      <td>212</td>\n",
       "      <td>211</td>\n",
       "      <td>210</td>\n",
       "      <td>211</td>\n",
       "      <td>210</td>\n",
       "      <td>210</td>\n",
       "      <td>...</td>\n",
       "      <td>235</td>\n",
       "      <td>234</td>\n",
       "      <td>233</td>\n",
       "      <td>231</td>\n",
       "      <td>230</td>\n",
       "      <td>226</td>\n",
       "      <td>225</td>\n",
       "      <td>222</td>\n",
       "      <td>229</td>\n",
       "      <td>163</td>\n",
       "    </tr>\n",
       "    <tr>\n",
       "      <th>4</th>\n",
       "      <td>12</td>\n",
       "      <td>164</td>\n",
       "      <td>167</td>\n",
       "      <td>170</td>\n",
       "      <td>172</td>\n",
       "      <td>176</td>\n",
       "      <td>179</td>\n",
       "      <td>180</td>\n",
       "      <td>184</td>\n",
       "      <td>185</td>\n",
       "      <td>...</td>\n",
       "      <td>92</td>\n",
       "      <td>105</td>\n",
       "      <td>105</td>\n",
       "      <td>108</td>\n",
       "      <td>133</td>\n",
       "      <td>163</td>\n",
       "      <td>157</td>\n",
       "      <td>163</td>\n",
       "      <td>164</td>\n",
       "      <td>179</td>\n",
       "    </tr>\n",
       "  </tbody>\n",
       "</table>\n",
       "<p>5 rows × 785 columns</p>\n",
       "</div>"
      ],
      "text/plain": [
       "   label  pixel1  pixel2  pixel3  pixel4  pixel5  pixel6  pixel7  pixel8  \\\n",
       "0      3     107     118     127     134     139     143     146     150   \n",
       "1      6     155     157     156     156     156     157     156     158   \n",
       "2      2     187     188     188     187     187     186     187     188   \n",
       "3      2     211     211     212     212     211     210     211     210   \n",
       "4     12     164     167     170     172     176     179     180     184   \n",
       "\n",
       "   pixel9  ...  pixel775  pixel776  pixel777  pixel778  pixel779  pixel780  \\\n",
       "0     153  ...       207       207       207       207       206       206   \n",
       "1     158  ...        69       149       128        87        94       163   \n",
       "2     187  ...       202       201       200       199       198       199   \n",
       "3     210  ...       235       234       233       231       230       226   \n",
       "4     185  ...        92       105       105       108       133       163   \n",
       "\n",
       "   pixel781  pixel782  pixel783  pixel784  \n",
       "0       206       204       203       202  \n",
       "1       175       103       135       149  \n",
       "2       198       195       194       195  \n",
       "3       225       222       229       163  \n",
       "4       157       163       164       179  \n",
       "\n",
       "[5 rows x 785 columns]"
      ]
     },
     "execution_count": 11,
     "metadata": {},
     "output_type": "execute_result"
    }
   ],
   "source": [
    "train_df.head()"
   ]
  },
  {
   "cell_type": "markdown",
   "metadata": {
    "id": "0gvcx0FAk6kZ"
   },
   "source": [
    "### 레이블 추출"
   ]
  },
  {
   "cell_type": "markdown",
   "metadata": {
    "id": "a8PoaOHJk6ka"
   },
   "source": [
    "MNIST와 마찬가지로, 트레이닝 및 검증 레이블을 `y_train` 및 `y_valid` 변수에 저장하려고 합니다. 여기서는 해당 변수를 생성한 다음 레이블이 더 이상 필요없는 데이터프레임 원본에서 레이블을 삭제합니다."
   ]
  },
  {
   "cell_type": "code",
   "execution_count": 12,
   "metadata": {
    "id": "50dUx--9k6ka"
   },
   "outputs": [],
   "source": [
    "y_train = train_df['label']\n",
    "y_valid = valid_df['label']\n",
    "del train_df['label']\n",
    "del valid_df['label']"
   ]
  },
  {
   "cell_type": "markdown",
   "metadata": {
    "id": "tnKW8Oklk6ka"
   },
   "source": [
    "### 이미지 추출"
   ]
  },
  {
   "cell_type": "markdown",
   "metadata": {
    "id": "3MUZdyock6ka"
   },
   "source": [
    "MNIST와 마찬가지로, 트레이닝 및 검증 이미지를 `x_train` 및 `x_valid` 변수에 저장하려고 합니다. 여기서는 해당 변수를 생성합니다."
   ]
  },
  {
   "cell_type": "code",
   "execution_count": 13,
   "metadata": {
    "id": "b1Txmd7sk6ka"
   },
   "outputs": [],
   "source": [
    "x_train = train_df.values\n",
    "x_valid = valid_df.values"
   ]
  },
  {
   "cell_type": "markdown",
   "metadata": {
    "id": "hFkIYymXk6ka"
   },
   "source": [
    "### 트레이닝 및 검증 데이터 요약"
   ]
  },
  {
   "cell_type": "markdown",
   "metadata": {
    "id": "pF2wABPJk6kb"
   },
   "source": [
    "이제 트레이닝을 위한 각각 784개 픽셀을 포함하는 27,455개의 이미지와"
   ]
  },
  {
   "cell_type": "code",
   "execution_count": 14,
   "metadata": {
    "id": "KebgB_q-k6kb"
   },
   "outputs": [
    {
     "data": {
      "text/plain": [
       "(27455, 784)"
      ]
     },
     "execution_count": 14,
     "metadata": {},
     "output_type": "execute_result"
    }
   ],
   "source": [
    "x_train.shape"
   ]
  },
  {
   "cell_type": "markdown",
   "metadata": {
    "id": "eoiJCCQ4k6kb"
   },
   "source": [
    "해당 레이블이 준비되었습니다."
   ]
  },
  {
   "cell_type": "code",
   "execution_count": 15,
   "metadata": {
    "id": "MPcghTPgk6kb"
   },
   "outputs": [
    {
     "data": {
      "text/plain": [
       "(27455,)"
      ]
     },
     "execution_count": 15,
     "metadata": {},
     "output_type": "execute_result"
    }
   ],
   "source": [
    "y_train.shape"
   ]
  },
  {
   "cell_type": "markdown",
   "metadata": {
    "id": "DII68N3ck6kb"
   },
   "source": [
    "검증을 위해서는 7,172개의 이미지와"
   ]
  },
  {
   "cell_type": "code",
   "execution_count": 16,
   "metadata": {
    "id": "c717TMT_k6kb"
   },
   "outputs": [
    {
     "data": {
      "text/plain": [
       "(7172, 784)"
      ]
     },
     "execution_count": 16,
     "metadata": {},
     "output_type": "execute_result"
    }
   ],
   "source": [
    "x_valid.shape"
   ]
  },
  {
   "cell_type": "markdown",
   "metadata": {
    "id": "q68GpU_Bk6kb"
   },
   "source": [
    "해당 레이블이 있습니다."
   ]
  },
  {
   "cell_type": "code",
   "execution_count": 17,
   "metadata": {
    "id": "J7R6Kt54k6kc"
   },
   "outputs": [
    {
     "data": {
      "text/plain": [
       "(7172,)"
      ]
     },
     "execution_count": 17,
     "metadata": {},
     "output_type": "execute_result"
    }
   ],
   "source": [
    "y_valid.shape"
   ]
  },
  {
   "cell_type": "markdown",
   "metadata": {
    "id": "CScYOP3Yk6kc"
   },
   "source": [
    "## 데이터 시각화"
   ]
  },
  {
   "cell_type": "markdown",
   "metadata": {
    "id": "X6Uunc-Hk6kc"
   },
   "source": [
    "이미지를 시각화하기 위해 다시 한 번 matplotlib 라이브러리를 사용하겠습니다. 이러한 시각화의 세부적인 내용에 대해서는 걱정할 필요가 없지만 만약 관심이 있다면 나중에 [matplotlib](https://matplotlib.org/)에 대해 자세히 알아볼 수 있습니다.\n",
    "\n",
    "이미지를 이해하기 위해서는 현재 784개 픽셀로 이루어진 1D 모양을 28x28픽셀로 이루어진 2D 모양으로 재구성해야 합니다."
   ]
  },
  {
   "cell_type": "code",
   "execution_count": 18,
   "metadata": {
    "id": "gdTGceIlk6kc"
   },
   "outputs": [
    {
     "data": {
      "image/png": "[encoded data removed]",
      "text/plain": [
       "<Figure size 2880x2880 with 20 Axes>"
      ]
     },
     "metadata": {
      "needs_background": "light"
     },
     "output_type": "display_data"
    }
   ],
   "source": [
    "import matplotlib.pyplot as plt\n",
    "plt.figure(figsize=(40,40))\n",
    "\n",
    "num_images = 20\n",
    "for i in range(num_images):\n",
    "    row = x_train[i]\n",
    "    label = y_train[i]\n",
    "    \n",
    "    image = row.reshape(28,28)\n",
    "    plt.subplot(1, num_images, i+1)\n",
    "    plt.title(label, fontdict={'fontsize': 30})\n",
    "    plt.axis('off')\n",
    "    plt.imshow(image, cmap='gray')"
   ]
  },
  {
   "cell_type": "markdown",
   "metadata": {
    "id": "30jh0W3uk6kc"
   },
   "source": [
    "## 연습: 이미지 데이터 정규화"
   ]
  },
  {
   "cell_type": "markdown",
   "metadata": {
    "id": "HLiY7TnQk6kc"
   },
   "source": [
    "MNIST 데이터세트에서 했던 것처럼 이미지 데이터를 정규화하겠습니다. 즉, 데이터의 픽셀 값이 현재처럼 0~255가 아닌"
   ]
  },
  {
   "cell_type": "code",
   "execution_count": 17,
   "metadata": {
    "id": "F8hNC-W6k6kc"
   },
   "outputs": [
    {
     "data": {
      "text/plain": [
       "0"
      ]
     },
     "execution_count": 17,
     "metadata": {},
     "output_type": "execute_result"
    }
   ],
   "source": [
    "x_train.min()"
   ]
  },
  {
   "cell_type": "code",
   "execution_count": 18,
   "metadata": {
    "id": "5R0mLkFCk6kd"
   },
   "outputs": [
    {
     "data": {
      "text/plain": [
       "255"
      ]
     },
     "execution_count": 18,
     "metadata": {},
     "output_type": "execute_result"
    }
   ],
   "source": [
    "x_train.max()"
   ]
  },
  {
   "cell_type": "code",
   "execution_count": 19,
   "metadata": {
    "id": "5R0mLkFCk6kd"
   },
   "outputs": [
    {
     "name": "stdout",
     "output_type": "stream",
     "text": [
      "[[0.41960784 0.4627451  0.49803922 ... 0.8        0.79607843 0.79215686]\n",
      " [0.60784314 0.61568627 0.61176471 ... 0.40392157 0.52941176 0.58431373]\n",
      " [0.73333333 0.7372549  0.7372549  ... 0.76470588 0.76078431 0.76470588]\n",
      " ...\n",
      " [0.68235294 0.68235294 0.68235294 ... 0.79215686 0.78431373 0.78431373]\n",
      " [0.69411765 0.70980392 0.72156863 ... 0.25098039 0.34117647 0.36470588]\n",
      " [0.70196078 0.70588235 0.70588235 ... 0.80392157 0.81960784 0.84313725]]\n"
     ]
    }
   ],
   "source": [
    "x_train = x_train / 255\n",
    "x_valid = x_valid / 255\n",
    "print(x_train)"
   ]
  },
  {
   "cell_type": "markdown",
   "metadata": {
    "id": "petpXIx6k6kd"
   },
   "source": [
    "0~1의 부동 소수점 값이 되어야 합니다. 다음 셀을 사용하여 작업하십시오. 문제가 생기는 경우에는 아래의 솔루션을 확인하십시오."
   ]
  },
  {
   "cell_type": "markdown",
   "metadata": {
    "id": "zbMYn8IZk6kd"
   },
   "source": [
    "### 솔루션"
   ]
  },
  {
   "cell_type": "markdown",
   "metadata": {
    "id": "iKNSJNQXk6kd"
   },
   "source": [
    "아래의 '...'를 클릭하면 솔루션이 표시됩니다."
   ]
  },
  {
   "cell_type": "markdown",
   "metadata": {
    "id": "uvbfz85kk6kd"
   },
   "source": [
    "```python\n",
    "x_train = x_train / 255\n",
    "x_valid = x_valid / 255\n",
    "```"
   ]
  },
  {
   "cell_type": "markdown",
   "metadata": {
    "id": "fshqpMD8k6kd"
   },
   "source": [
    "## 연습: 레이블 분류"
   ]
  },
  {
   "cell_type": "markdown",
   "metadata": {
    "id": "s0fk7NCik6ke"
   },
   "source": [
    "MNIST 데이터세트에서 했던 것처럼 레이블을 범주 인코딩하겠습니다. 이전에 했듯이 [keras.utils.to_categorical](https://www.tensorflow.org/api_docs/python/tf/keras/utils/to_categorical) 메서드를 사용하여 여기에 인코딩할 값과 값을 인코딩할 범주 수를 전달해 범주 인코딩을 수행할 수 있습니다. 아래 셀에서 작업을 수행하십시오. `keras`를 가져와 범주 수(24)를 설정해 두었습니다."
   ]
  },
  {
   "cell_type": "code",
   "execution_count": 20,
   "metadata": {
    "id": "CBtoqQHZk6ke"
   },
   "outputs": [],
   "source": [
    "import tensorflow.keras as keras\n",
    "num_classes = 24"
   ]
  },
  {
   "cell_type": "code",
   "execution_count": 21,
   "metadata": {
    "id": "8p2DPxeNk6ke"
   },
   "outputs": [
    {
     "name": "stdout",
     "output_type": "stream",
     "text": [
      "[[0. 0. 0. ... 0. 0. 0.]\n",
      " [0. 0. 0. ... 0. 0. 0.]\n",
      " [0. 0. 1. ... 0. 0. 0.]\n",
      " ...\n",
      " [0. 0. 0. ... 0. 0. 0.]\n",
      " [0. 0. 0. ... 0. 0. 0.]\n",
      " [0. 0. 0. ... 0. 1. 0.]]\n"
     ]
    }
   ],
   "source": [
    "# TODO: Categorically encode y_train and y_valid.\n",
    "y_train = keras.utils.to_categorical(y_train, num_classes)\n",
    "y_valid = keras.utils.to_categorical(y_valid, num_classes)\n",
    "print(y_train)"
   ]
  },
  {
   "cell_type": "markdown",
   "metadata": {
    "id": "M4WN6hNNk6ke"
   },
   "source": [
    "### 솔루션"
   ]
  },
  {
   "cell_type": "markdown",
   "metadata": {
    "id": "snMoigRyk6ke"
   },
   "source": [
    "아래의 '...'를 클릭하면 솔루션이 표시됩니다."
   ]
  },
  {
   "cell_type": "markdown",
   "metadata": {
    "id": "5qbyoaKmk6ke"
   },
   "source": [
    "```python\n",
    "y_train = keras.utils.to_categorical(y_train, num_classes)\n",
    "y_valid = keras.utils.to_categorical(y_valid, num_classes)\n",
    "```"
   ]
  },
  {
   "cell_type": "markdown",
   "metadata": {
    "id": "vXnLy6Vbk6ke"
   },
   "source": [
    "## 연습: 모델 구축"
   ]
  },
  {
   "cell_type": "markdown",
   "metadata": {
    "id": "JON5mSrmk6kf"
   },
   "source": [
    "데이터가 모두 준비되었고 트레이닝 및 검증을 위한 이미지를 정규화했으며 트레이닝 및 검증을 위한 레이블을 범주 인코딩했습니다.\n",
    "\n",
    "이 연습에서는 순차 모델을 구축하겠습니다. 지난 번에 했던 대로, 다음과 같은 모델을 구축합니다.\n",
    "* 밀집 입력 레이어를 지님. 이 레이어는 512개의 뉴런을 포함하고 `relu` 활성화 함수를 사용하고 `(784,)` 모양을 가진 입력 이미지를 예상해야 합니다.\n",
    "* 512개의 뉴런을 포함하고 `relu` 활성화 함수를 사용하는 두 번째 밀집 레이어를 지님\n",
    "* 뉴런 수가 클래스와 동일하고 `softmax` 활성화 함수를 사용하는 밀집 출력 레이어를 지님\n",
    "\n",
    "아래 셀에서 작업을 수행해 모델을 저장할 `model` 변수를 생성하십시오. 바로 시작할 수 있도록 Keras [순차](https://www.tensorflow.org/api_docs/python/tf/keras/Sequential) 모델 클래스와 [Dense](https://www.tensorflow.org/api_docs/python/tf/keras/layers/Dense) 레이어 클래스를 가져왔습니다. 아래 솔루션을 표시하여 힌트를 얻을 수 있습니다."
   ]
  },
  {
   "cell_type": "code",
   "execution_count": 22,
   "metadata": {
    "id": "aZob-OD0k6kf"
   },
   "outputs": [],
   "source": [
    "from tensorflow.keras.models import Sequential\n",
    "from tensorflow.keras.layers import Dense"
   ]
  },
  {
   "cell_type": "code",
   "execution_count": 23,
   "metadata": {
    "id": "jyVeogJ2k6kf"
   },
   "outputs": [],
   "source": [
    "# TODO: build a model following the guidelines above.\n",
    "model = Sequential()\n",
    "model.add(Dense(units = 512, activation='relu', input_shape=(784,)))\n",
    "model.add(Dense(units = 512, activation='relu'))\n",
    "model.add(Dense(units = num_classes, activation='softmax'))"
   ]
  },
  {
   "cell_type": "markdown",
   "metadata": {
    "id": "QgEewW5hk6kf"
   },
   "source": [
    "### 솔루션"
   ]
  },
  {
   "cell_type": "markdown",
   "metadata": {
    "id": "BP-oca8ck6kf"
   },
   "source": [
    "아래의 '...'를 클릭하면 솔루션이 표시됩니다."
   ]
  },
  {
   "cell_type": "markdown",
   "metadata": {
    "id": "wBAtCSQXk6kf"
   },
   "source": [
    "```python\n",
    "model = Sequential()\n",
    "model.add(Dense(units = 512, activation='relu', input_shape=(784,)))\n",
    "model.add(Dense(units = 512, activation='relu'))\n",
    "model.add(Dense(units = num_classes, activation='softmax'))\n",
    "```"
   ]
  },
  {
   "cell_type": "markdown",
   "metadata": {
    "id": "7CG4Oixmk6kf"
   },
   "source": [
    "## 모델 요약"
   ]
  },
  {
   "cell_type": "markdown",
   "metadata": {
    "id": "gINZhdF1k6kg"
   },
   "source": [
    "아래 셀을 실행하여 방금 생성한 모델을 요약하십시오."
   ]
  },
  {
   "cell_type": "code",
   "execution_count": 24,
   "metadata": {
    "id": "ulPvSfRWk6kg"
   },
   "outputs": [
    {
     "name": "stdout",
     "output_type": "stream",
     "text": [
      "Model: \"sequential\"\n",
      "_________________________________________________________________\n",
      "Layer (type)                 Output Shape              Param #   \n",
      "=================================================================\n",
      "dense (Dense)                (None, 512)               401920    \n",
      "_________________________________________________________________\n",
      "dense_1 (Dense)              (None, 512)               262656    \n",
      "_________________________________________________________________\n",
      "dense_2 (Dense)              (None, 24)                12312     \n",
      "=================================================================\n",
      "Total params: 676,888\n",
      "Trainable params: 676,888\n",
      "Non-trainable params: 0\n",
      "_________________________________________________________________\n"
     ]
    }
   ],
   "source": [
    "model.summary()"
   ]
  },
  {
   "cell_type": "markdown",
   "metadata": {
    "id": "4fDT2_Huk6kg"
   },
   "source": [
    "## 모델 컴파일"
   ]
  },
  {
   "cell_type": "markdown",
   "metadata": {
    "id": "4dNK4_Jpk6kg"
   },
   "source": [
    "전과 같은 옵션으로 모델을 [컴파일](https://www.tensorflow.org/api_docs/python/tf/keras/Sequential#compile)하며, [categorical crossentropy](https://www.tensorflow.org/api_docs/python/tf/keras/losses/CategoricalCrossentropy)를 사용하여 다수의 범주 중 하나에 맞추고 싶다는 사실을 반영하고 모델의 정확도를 측정하겠습니다."
   ]
  },
  {
   "cell_type": "code",
   "execution_count": 25,
   "metadata": {
    "id": "KXTkgJJbk6kg"
   },
   "outputs": [],
   "source": [
    "model.compile(loss='categorical_crossentropy', metrics=['accuracy'])"
   ]
  },
  {
   "cell_type": "markdown",
   "metadata": {
    "id": "IacN7AJSk6kg"
   },
   "source": [
    "## 연습: 모델 트레이닝"
   ]
  },
  {
   "cell_type": "markdown",
   "metadata": {
    "id": "Tar8Y19yk6kg"
   },
   "source": [
    "모델의 `fit` 메서드를 사용하여 위에서 생성한 트레이닝 및 검증 이미지와 레이블로 20에포크 동안 트레이닝하십시오."
   ]
  },
  {
   "cell_type": "code",
   "execution_count": 26,
   "metadata": {
    "id": "qdnH-TnJk6kh"
   },
   "outputs": [
    {
     "name": "stdout",
     "output_type": "stream",
     "text": [
      "Epoch 1/20\n",
      "858/858 [==============================] - 2s 3ms/step - loss: 1.9405 - accuracy: 0.3815 - val_loss: 1.4863 - val_accuracy: 0.5206\n",
      "Epoch 2/20\n",
      "858/858 [==============================] - 2s 2ms/step - loss: 0.9708 - accuracy: 0.6716 - val_loss: 1.3756 - val_accuracy: 0.5704\n",
      "Epoch 3/20\n",
      "858/858 [==============================] - 2s 2ms/step - loss: 0.5994 - accuracy: 0.7987 - val_loss: 1.6600 - val_accuracy: 0.5708\n",
      "Epoch 4/20\n",
      "858/858 [==============================] - 2s 2ms/step - loss: 0.3996 - accuracy: 0.8702 - val_loss: 1.0444 - val_accuracy: 0.7020\n",
      "Epoch 5/20\n",
      "858/858 [==============================] - 2s 2ms/step - loss: 0.3033 - accuracy: 0.9092 - val_loss: 0.8209 - val_accuracy: 0.7706\n",
      "Epoch 6/20\n",
      "858/858 [==============================] - 2s 2ms/step - loss: 0.2454 - accuracy: 0.9304 - val_loss: 0.6765 - val_accuracy: 0.8437\n",
      "Epoch 7/20\n",
      "858/858 [==============================] - 2s 2ms/step - loss: 0.2173 - accuracy: 0.9457 - val_loss: 0.9833 - val_accuracy: 0.8016\n",
      "Epoch 8/20\n",
      "858/858 [==============================] - 2s 2ms/step - loss: 0.1882 - accuracy: 0.9532 - val_loss: 2.5745 - val_accuracy: 0.6442\n",
      "Epoch 9/20\n",
      "858/858 [==============================] - 2s 2ms/step - loss: 0.1909 - accuracy: 0.9569 - val_loss: 1.0343 - val_accuracy: 0.8090\n",
      "Epoch 10/20\n",
      "858/858 [==============================] - 2s 2ms/step - loss: 0.1679 - accuracy: 0.9641 - val_loss: 1.0499 - val_accuracy: 0.8151\n",
      "Epoch 11/20\n",
      "858/858 [==============================] - 2s 2ms/step - loss: 0.1744 - accuracy: 0.9675 - val_loss: 1.6226 - val_accuracy: 0.7784\n",
      "Epoch 12/20\n",
      "858/858 [==============================] - 2s 2ms/step - loss: 0.1657 - accuracy: 0.9690 - val_loss: 1.1623 - val_accuracy: 0.8373\n",
      "Epoch 13/20\n",
      "858/858 [==============================] - 2s 2ms/step - loss: 0.1577 - accuracy: 0.9695 - val_loss: 1.6188 - val_accuracy: 0.8023\n",
      "Epoch 14/20\n",
      "858/858 [==============================] - 2s 2ms/step - loss: 0.1525 - accuracy: 0.9722 - val_loss: 1.3180 - val_accuracy: 0.8376\n",
      "Epoch 15/20\n",
      "858/858 [==============================] - 2s 2ms/step - loss: 0.1436 - accuracy: 0.9728 - val_loss: 1.7181 - val_accuracy: 0.8178\n",
      "Epoch 16/20\n",
      "858/858 [==============================] - 2s 2ms/step - loss: 0.1322 - accuracy: 0.9741 - val_loss: 1.5000 - val_accuracy: 0.8466\n",
      "Epoch 17/20\n",
      "858/858 [==============================] - 2s 3ms/step - loss: 0.1471 - accuracy: 0.9737 - val_loss: 1.7242 - val_accuracy: 0.8249\n",
      "Epoch 18/20\n",
      "858/858 [==============================] - 2s 2ms/step - loss: 0.1401 - accuracy: 0.9751 - val_loss: 1.5614 - val_accuracy: 0.8526\n",
      "Epoch 19/20\n",
      "858/858 [==============================] - 2s 2ms/step - loss: 0.1253 - accuracy: 0.9795 - val_loss: 1.7482 - val_accuracy: 0.8186\n",
      "Epoch 20/20\n",
      "858/858 [==============================] - 2s 2ms/step - loss: 0.1259 - accuracy: 0.9777 - val_loss: 1.6462 - val_accuracy: 0.8260\n"
     ]
    },
    {
     "data": {
      "text/plain": [
       "<tensorflow.python.keras.callbacks.History at 0x7f924e732dd8>"
      ]
     },
     "execution_count": 26,
     "metadata": {},
     "output_type": "execute_result"
    }
   ],
   "source": [
    "# TODO: Train the model for 20 epochs.\n",
    "model.fit(x_train, y_train, epochs=20, verbose=1, validation_data=(x_valid, y_valid))"
   ]
  },
  {
   "cell_type": "markdown",
   "metadata": {
    "id": "VZNisJSAk6kh"
   },
   "source": [
    "### 솔루션"
   ]
  },
  {
   "cell_type": "markdown",
   "metadata": {
    "id": "5ubbvpSUk6kh"
   },
   "source": [
    "아래의 '...'를 클릭하면 솔루션이 표시됩니다."
   ]
  },
  {
   "cell_type": "markdown",
   "metadata": {
    "id": "DyHSnFOnk6kh"
   },
   "source": [
    "```python\n",
    "model.fit(x_train, y_train, epochs=20, verbose=1, validation_data=(x_valid, y_valid))\n",
    "```"
   ]
  },
  {
   "cell_type": "markdown",
   "metadata": {
    "id": "GXDpXL_0k6kh"
   },
   "source": [
    "## 논의: 어떻게 됐습니까?"
   ]
  },
  {
   "cell_type": "markdown",
   "metadata": {
    "id": "dUYfFaj6k6kh"
   },
   "source": [
    "트레이닝 정확도는 꽤 높은 수준에 도달했지만 검증 정확도는 그 정도로 높지 않다는 사실을 확인할 수 있습니다. 어떻게 된 걸까요?\n",
    "\n",
    "아래의 '...'을 클릭하여 정답을 표시하기 전에 잠시 생각해 보십시오."
   ]
  },
  {
   "cell_type": "markdown",
   "metadata": {
    "id": "cVEdwXVQk6kh"
   },
   "source": [
    "이는 트레이닝 데이터 분류를 위한 모델 학습의 예시이지만 아직 트레이닝되지 않은 새 데이터에 대한 성능은 저조합니다. 근본적으로는 데이터세트를 기억하지만 문제에 대한 확고하고 전반적인 이해도는 얻지 못하고 있습니다. 이는 *과적합*이라 불리는 일반적이 문제입니다. 다음 두 개의 강의에서는 과적합, 그리고 이를 해결할 수 있는 몇 가지 방법에 대해 설명하겠습니다."
   ]
  },
  {
   "cell_type": "markdown",
   "metadata": {
    "id": "7HPLhJafk6ki"
   },
   "source": [
    "## 요약"
   ]
  },
  {
   "cell_type": "markdown",
   "metadata": {
    "id": "5zGByA-Pk6ki"
   },
   "source": [
    "이 섹션에서는 직접 뉴럴 네트워크를 구축하여 상당히 정확한 이미지 분류를 수행해 보았습니다. 축하합니다!\n",
    "\n",
    "이제 데이터(레이블 포함)를 로드하고 준비하고 모델을 생성한 다음 준비한 데이터로 모델을 트레이닝하는 과정이 어느 정도는 익숙해졌을 것입니다."
   ]
  },
  {
   "cell_type": "markdown",
   "metadata": {
    "id": "xnF0FQnEk6ki"
   },
   "source": [
    "### 메모리 지우기\n",
    "넘어가기 전에 다음 셀을 실행하여 GPU 메모리를 지워주시기 바랍니다. 이는 다음 노트북으로 넘어가기 위한 필수 작업입니다."
   ]
  },
  {
   "cell_type": "code",
   "execution_count": 27,
   "metadata": {
    "id": "bKDYC-gTk6ki"
   },
   "outputs": [
    {
     "data": {
      "text/plain": [
       "{'status': 'ok', 'restart': True}"
      ]
     },
     "execution_count": 27,
     "metadata": {},
     "output_type": "execute_result"
    }
   ],
   "source": [
    "import IPython\n",
    "app = IPython.Application.instance()\n",
    "app.kernel.do_shutdown(True)"
   ]
  },
  {
   "cell_type": "markdown",
   "metadata": {
    "id": "xb7LMUuxk6ki"
   },
   "source": [
    "## 다음"
   ]
  },
  {
   "cell_type": "markdown",
   "metadata": {
    "id": "7ngh-P3dk6ki"
   },
   "source": [
    "아주 기본적이지만 어느 정도는 효과적인 모델을 구성해 보았으니 이제 *CNN(Convolutional Neural Network)*을 비롯한 좀 더 복잡한 모델에 대해 알아보겠습니다.\n",
    "\n",
    "이어서 다음 섹션인 [*ASL과 CNN*](./03_asl_cnn.ipynb)을 진행해 주시기 바랍니다."
   ]
  }
 ],
 "metadata": {
  "colab": {
   "name": "task1_task_02_asl.ipynb",
   "provenance": [],
   "toc_visible": true
  },
  "kernelspec": {
   "display_name": "Python 3",
   "language": "python",
   "name": "python3"
  },
  "language_info": {
   "codemirror_mode": {
    "name": "ipython",
    "version": 3
   },
   "file_extension": ".py",
   "mimetype": "text/x-python",
   "name": "python",
   "nbconvert_exporter": "python",
   "pygments_lexer": "ipython3",
   "version": "3.6.9"
  }
 },
 "nbformat": 4,
 "nbformat_minor": 4
}
