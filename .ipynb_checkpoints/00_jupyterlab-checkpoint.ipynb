{
 "cells": [
  {
   "cell_type": "markdown",
   "metadata": {
    "id": "KQXVYzxPkyg2"
   },
   "source": [
    "<a href=\"https://www.nvidia.com/dli\"> <img src=\"images/DLI_Header.png\" alt=\"헤더\" style=\"width: 400px;\"/> </a>"
   ]
  },
  {
   "cell_type": "markdown",
   "metadata": {
    "id": "nXbwuCrHkyg6"
   },
   "source": [
    "# JupyterLab\n",
    "이 핸즈온 랩에서는 [JupyterLab](https://jupyterlab.readthedocs.io/en/stable/)을 사용하여 환경을 관리합니다.  [JupyterLab 인터페이스](https://jupyterlab.readthedocs.io/en/stable/user/interface.html)는 인터랙티브 iPython 노트북에 액세스할 수 있을 뿐 아니라 Ubuntu 운영 체제로 환경 및 터미널 창의 폴더 구조에 액세스할 수 있는 대시보드입니다. 표시되는 첫 번째 보기에는 상단의 **메뉴 모음**, **왼쪽 사이드바**의 **파일 탐색기**, 처음에 \"시작 관리자\" 페이지로 열리는 **메인 작업 영역**이 포함되어 있습니다. \n",
    "\n",
    "<img src=\"images/jl_launcher.png\">\n",
    "\n",
    "파일 탐색기는 다른 파일 탐색기와 같은 방법으로 탐색할 수 있습니다. 항목을 더블 클릭하면 내용이 포함된 새 탭이 열립니다.\n",
    "\n",
    "메인 작업 영역에는 필요에 따라 닫거나 이동하거나 편집할 수 있는 탭으로 구분된 열린 파일 보기가 포함되어 있습니다. \n",
    "\n",
    "이 노트북을 포함한 노트북은 일련의 콘텐츠와 코드 **셀**로 구성됩니다.  코드 셀에서 코드를 실행하려면 셀을 강조 표시한 상태에서 `Shift+Enter`를 누르거나 위의 메뉴 모음에서 \"실행\" 버튼을 누르십시오. 때로는 콘텐츠 셀이 편집 모드로 전환됩니다. `Shift+Enter`를 누르면 읽을 수 있는 형식으로 다시 전환됩니다.\n",
    "\n",
    "아래 셀에서 간단한 출력 문을 실행해 보십시오."
   ]
  },
  {
   "cell_type": "code",
   "execution_count": 1,
   "metadata": {
    "id": "ECq7I_9Fkyg7"
   },
   "outputs": [
    {
     "name": "stdout",
     "output_type": "stream",
     "text": [
      "This is just a simple print statement\n"
     ]
    }
   ],
   "source": [
    "# Highlight this cell and click [Shift+Enter] to execute\n",
    "print('This is just a simple print statement')"
   ]
  },
  {
   "cell_type": "markdown",
   "metadata": {
    "id": "lFf1E26Hkyg7"
   },
   "source": [
    "## GPU 메모리 지우기"
   ]
  },
  {
   "cell_type": "markdown",
   "metadata": {
    "id": "_2Momcsukyg7"
   },
   "source": [
    "간혹 실험이 잘못되었을 때나 노트북 간에 새로운 연습 모음을 새로 시작해야 할 때 GPU 메모리를 초기화하기 위해 GPU 메모리를 지워야 하는 경우가 있습니다.\n",
    "\n",
    "GPU 메모리를 지우는 데는 2가지 기본 방법이 있습니다. 첫 번째 방법은 노트북 바로 위의 메뉴에 위치한 ⟳ 버튼을 사용하는 것입니다. 지금 클릭하면 GPU 메모리를 초기화해도 괜찮냐고 묻는 메시지가 표시됩니다.\n",
    "\n",
    "두 번째 방법은 각 노트북이 끝나는 시점에 제공될 코드 셀을 이용하는 방법입니다. 아래는 이러한 셀 중 하나로, 해당 셀을 실행하여 올바른 습관을 들일 수 있습니다."
   ]
  },
  {
   "cell_type": "code",
   "execution_count": null,
   "metadata": {
    "id": "ncWz5hYikyg8"
   },
   "outputs": [],
   "source": [
    "import IPython\n",
    "app = IPython.Application.instance()\n",
    "app.kernel.do_shutdown(True)"
   ]
  },
  {
   "cell_type": "markdown",
   "metadata": {
    "id": "gjGzeTw1kyg8"
   },
   "source": [
    "## 다음"
   ]
  },
  {
   "cell_type": "markdown",
   "metadata": {
    "id": "6ACLmGpfkyg8"
   },
   "source": [
    "이제 인터랙티브 환경이 익숙해졌으니 다음 섹션에서는 딥러닝의 \"hello world\"를 수행하여 수기 문자에 대한 이미지 분류를 수행하도록 뉴럴 네트워크를 트레이닝해보겠습니다. 이어서 [01_mnsist.ipynb](./01_mnist.ipynb)를 진행해 주시기 바랍니다."
   ]
  },
  {
   "cell_type": "markdown",
   "metadata": {
    "id": "tn-xjSFwkyg8"
   },
   "source": [
    "<a href=\"https://www.nvidia.com/dli\"> <img src=\"images/DLI_Header.png\" alt=\"헤더\" style=\"width: 400px;\"/> </a>"
   ]
  }
 ],
 "metadata": {
  "colab": {
   "name": "task1_task_00_jupyterlab.ipynb",
   "provenance": []
  },
  "kernelspec": {
   "display_name": "Python 3",
   "language": "python",
   "name": "python3"
  },
  "language_info": {
   "codemirror_mode": {
    "name": "ipython",
    "version": 3
   },
   "file_extension": ".py",
   "mimetype": "text/x-python",
   "name": "python",
   "nbconvert_exporter": "python",
   "pygments_lexer": "ipython3",
   "version": "3.6.9"
  }
 },
 "nbformat": 4,
 "nbformat_minor": 4
}
